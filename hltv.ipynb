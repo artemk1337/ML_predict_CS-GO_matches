{
 "cells": [
  {
   "cell_type": "code",
   "execution_count": 13,
   "metadata": {},
   "outputs": [],
   "source": [
    "import requests\n",
    "import urllib\n",
    "import datetime\n",
    "from bs4 import BeautifulSoup\n",
    "from re import sub\n",
    "import re\n",
    "import numpy as np\n",
    "import pandas as pd\n",
    "from dateutil.relativedelta import relativedelta\n",
    "from datetime import datetime\n",
    "import time\n",
    "from requests.auth import HTTPProxyAuth\n",
    "import random\n",
    "import lxml\n",
    "\n",
    "\n",
    "PREFIX = 'https://www.hltv.org'\n",
    "proxyDict = None\n",
    "proxyAuth = None"
   ]
  },
  {
   "cell_type": "code",
   "execution_count": 18,
   "metadata": {},
   "outputs": [],
   "source": [
    "def get_parsed_page(url, proxy_=None, auth_=None):\n",
    "    TIMESLEEP = random.uniform(0.25, 0.3)\n",
    "    time.sleep(TIMESLEEP)\n",
    "    got_req = requests.get(url, proxies=proxy_, auth=auth_).text\n",
    "    return BeautifulSoup(got_req)"
   ]
  },
  {
   "cell_type": "code",
   "execution_count": 20,
   "metadata": {},
   "outputs": [
    {
     "data": {
      "text/html": [
       "<div>\n",
       "<style scoped>\n",
       "    .dataframe tbody tr th:only-of-type {\n",
       "        vertical-align: middle;\n",
       "    }\n",
       "\n",
       "    .dataframe tbody tr th {\n",
       "        vertical-align: top;\n",
       "    }\n",
       "\n",
       "    .dataframe thead th {\n",
       "        text-align: right;\n",
       "    }\n",
       "</style>\n",
       "<table border=\"1\" class=\"dataframe\">\n",
       "  <thead>\n",
       "    <tr style=\"text-align: right;\">\n",
       "      <th></th>\n",
       "      <th>match_url</th>\n",
       "    </tr>\n",
       "  </thead>\n",
       "  <tbody>\n",
       "    <tr>\n",
       "      <th>0</th>\n",
       "      <td>/matches/2342158/forze-vs-complexity-home-swee...</td>\n",
       "    </tr>\n",
       "    <tr>\n",
       "      <th>1</th>\n",
       "      <td>/matches/2342152/sinners-vs-esuba-tipsport-coo...</td>\n",
       "    </tr>\n",
       "    <tr>\n",
       "      <th>2</th>\n",
       "      <td>/matches/2342157/high-coast-vs-ninjas-to-be-do...</td>\n",
       "    </tr>\n",
       "    <tr>\n",
       "      <th>3</th>\n",
       "      <td>/matches/2341580/g2-vs-big-dreamhack-masters-s...</td>\n",
       "    </tr>\n",
       "    <tr>\n",
       "      <th>4</th>\n",
       "      <td>/matches/2342175/secret-vs-ago-cs-summit-6-eur...</td>\n",
       "    </tr>\n",
       "    <tr>\n",
       "      <th>...</th>\n",
       "      <td>...</td>\n",
       "    </tr>\n",
       "    <tr>\n",
       "      <th>95</th>\n",
       "      <td>/matches/2341634/gamerlegion-vs-pro100-esea-md...</td>\n",
       "    </tr>\n",
       "    <tr>\n",
       "      <th>96</th>\n",
       "      <td>/matches/2342058/wisla-krakow-vs-pact-esea-mdl...</td>\n",
       "    </tr>\n",
       "    <tr>\n",
       "      <th>97</th>\n",
       "      <td>/matches/2342059/unicorns-of-love-vs-mens-esea...</td>\n",
       "    </tr>\n",
       "    <tr>\n",
       "      <th>98</th>\n",
       "      <td>/matches/2342066/gamerlegion-vs-nemiga-esea-md...</td>\n",
       "    </tr>\n",
       "    <tr>\n",
       "      <th>99</th>\n",
       "      <td>/matches/2342075/illuminar-vs-honoris-home-swe...</td>\n",
       "    </tr>\n",
       "  </tbody>\n",
       "</table>\n",
       "<p>100 rows × 1 columns</p>\n",
       "</div>"
      ],
      "text/plain": [
       "                                            match_url\n",
       "0   /matches/2342158/forze-vs-complexity-home-swee...\n",
       "1   /matches/2342152/sinners-vs-esuba-tipsport-coo...\n",
       "2   /matches/2342157/high-coast-vs-ninjas-to-be-do...\n",
       "3   /matches/2341580/g2-vs-big-dreamhack-masters-s...\n",
       "4   /matches/2342175/secret-vs-ago-cs-summit-6-eur...\n",
       "..                                                ...\n",
       "95  /matches/2341634/gamerlegion-vs-pro100-esea-md...\n",
       "96  /matches/2342058/wisla-krakow-vs-pact-esea-mdl...\n",
       "97  /matches/2342059/unicorns-of-love-vs-mens-esea...\n",
       "98  /matches/2342066/gamerlegion-vs-nemiga-esea-md...\n",
       "99  /matches/2342075/illuminar-vs-honoris-home-swe...\n",
       "\n",
       "[100 rows x 1 columns]"
      ]
     },
     "execution_count": 20,
     "metadata": {},
     "output_type": "execute_result"
    }
   ],
   "source": [
    "# download all urls matches\n",
    "def get_results_url(filename=None, pages_with_results=[0]):\n",
    "    all_matches = []\n",
    "    for i in pages_with_results:\n",
    "        if i == 0:\n",
    "            results = get_parsed_page('http://www.hltv.org/results', proxyDict, proxyAuth)\n",
    "        else:\n",
    "            results = get_parsed_page(f'http://www.hltv.org/results?offset={i}00', proxyDict, proxyAuth)\n",
    "        # list of matches\n",
    "        all_matches += [url_.find('a', {\"class\": \"a-reset\"})['href'] for url_ in\n",
    "                        results.find('div',\n",
    "                                     {\"class\": \"results-all\", 'data-zonedgrouping-group-classes': \"results-sublist\"}).\n",
    "                        find_all('div', {\"class\": \"result-con\"})]\n",
    "    all_matches = np.array(all_matches)\n",
    "    if filename is None:\n",
    "        return pd.DataFrame(all_matches, columns=['match_url'])\n",
    "    else:\n",
    "        pd.DataFrame(all_matches, columns=['match_url']).to_csv(f'{filename}.csv')\n",
    "\n",
    "\n",
    "\n",
    "get_results_url()"
   ]
  },
  {
   "cell_type": "code",
   "execution_count": 16,
   "metadata": {},
   "outputs": [
    {
     "name": "stdout",
     "output_type": "stream",
     "text": [
      "Requirement already up-to-date: lxml in e:\\python\\3.8\\lib\\site-packages (4.5.1)\n"
     ]
    }
   ],
   "source": []
  },
  {
   "cell_type": "code",
   "execution_count": null,
   "metadata": {},
   "outputs": [],
   "source": []
  }
 ],
 "metadata": {
  "kernelspec": {
   "display_name": "Python 3",
   "language": "python",
   "name": "python3"
  },
  "language_info": {
   "codemirror_mode": {
    "name": "ipython",
    "version": 3
   },
   "file_extension": ".py",
   "mimetype": "text/x-python",
   "name": "python",
   "nbconvert_exporter": "python",
   "pygments_lexer": "ipython3",
   "version": "3.8.3"
  }
 },
 "nbformat": 4,
 "nbformat_minor": 4
}
